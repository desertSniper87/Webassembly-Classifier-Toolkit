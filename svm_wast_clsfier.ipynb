{
 "cells": [
  {
   "cell_type": "markdown",
   "source": [
    "# SVM classifier"
   ],
   "metadata": {
    "collapsed": false,
    "pycharm": {
     "name": "#%% md\n",
     "is_executing": true
    }
   }
  },
  {
   "cell_type": "code",
   "execution_count": 18,
   "metadata": {
    "collapsed": true,
    "pycharm": {
     "name": "#%%\n"
    }
   },
   "outputs": [
    {
     "name": "stdout",
     "output_type": "stream",
     "text": [
      "The autoreload extension is already loaded. To reload it, use:\n",
      "  %reload_ext autoreload\n"
     ]
    }
   ],
   "source": [
    "%load_ext autoreload\n",
    "\n",
    "import numpy as np\n",
    "import tensorflow as tf\n",
    "\n",
    "import os\n",
    "\n",
    "%autoreload 2\n",
    "from wast_analyze import wast_analysis"
   ]
  },
  {
   "cell_type": "markdown",
   "metadata": {
    "pycharm": {
     "name": "#%% md\n"
    }
   },
   "source": [
    "### Load Data"
   ]
  },
  {
   "cell_type": "code",
   "execution_count": 2,
   "metadata": {
    "pycharm": {
     "name": "#%%\n"
    }
   },
   "outputs": [],
   "source": [
    "current_dir = os.getcwd()\n",
    "miner_train_dir = os.path.join(current_dir, 'wast_samples/miner_samples')\n",
    "benign_train_dir = os.path.join(current_dir, 'wast_samples/benign_samples')\n",
    "\n",
    "\n"
   ]
  },
  {
   "cell_type": "code",
   "execution_count": 15,
   "outputs": [
    {
     "ename": "AttributeError",
     "evalue": "module 'tensorflow_estimator.python.estimator.api._v2.estimator' has no attribute 'inputs'",
     "output_type": "error",
     "traceback": [
      "\u001B[0;31m---------------------------------------------------------------------------\u001B[0m",
      "\u001B[0;31mAttributeError\u001B[0m                            Traceback (most recent call last)",
      "\u001B[0;32m<ipython-input-15-7302c82b2412>\u001B[0m in \u001B[0;36m<module>\u001B[0;34m\u001B[0m\n\u001B[1;32m      6\u001B[0m \u001B[0mexample_id_column_name\u001B[0m \u001B[0;34m=\u001B[0m \u001B[0;34m'example_id'\u001B[0m\u001B[0;34m\u001B[0m\u001B[0;34m\u001B[0m\u001B[0m\n\u001B[1;32m      7\u001B[0m \u001B[0;34m\u001B[0m\u001B[0m\n\u001B[0;32m----> 8\u001B[0;31m train_input_fn = tf.estimator.inputs.numpy_input_fn(\n\u001B[0m\u001B[1;32m      9\u001B[0m     \u001B[0mx\u001B[0m\u001B[0;34m=\u001B[0m\u001B[0;34m{\u001B[0m\u001B[0mx_column_name\u001B[0m\u001B[0;34m:\u001B[0m \u001B[0mX\u001B[0m\u001B[0;34m,\u001B[0m \u001B[0mexample_id_column_name\u001B[0m\u001B[0;34m:\u001B[0m \u001B[0mexample_id\u001B[0m\u001B[0;34m}\u001B[0m\u001B[0;34m,\u001B[0m\u001B[0;34m\u001B[0m\u001B[0;34m\u001B[0m\u001B[0m\n\u001B[1;32m     10\u001B[0m     \u001B[0my\u001B[0m\u001B[0;34m=\u001B[0m\u001B[0mY\u001B[0m\u001B[0;34m,\u001B[0m\u001B[0;34m\u001B[0m\u001B[0;34m\u001B[0m\u001B[0m\n",
      "\u001B[0;32m~/wastClassifier/env/lib/python3.8/site-packages/tensorflow/python/util/lazy_loader.py\u001B[0m in \u001B[0;36m__getattr__\u001B[0;34m(self, item)\u001B[0m\n\u001B[1;32m     61\u001B[0m   \u001B[0;32mdef\u001B[0m \u001B[0m__getattr__\u001B[0m\u001B[0;34m(\u001B[0m\u001B[0mself\u001B[0m\u001B[0;34m,\u001B[0m \u001B[0mitem\u001B[0m\u001B[0;34m)\u001B[0m\u001B[0;34m:\u001B[0m\u001B[0;34m\u001B[0m\u001B[0;34m\u001B[0m\u001B[0m\n\u001B[1;32m     62\u001B[0m     \u001B[0mmodule\u001B[0m \u001B[0;34m=\u001B[0m \u001B[0mself\u001B[0m\u001B[0;34m.\u001B[0m\u001B[0m_load\u001B[0m\u001B[0;34m(\u001B[0m\u001B[0;34m)\u001B[0m\u001B[0;34m\u001B[0m\u001B[0;34m\u001B[0m\u001B[0m\n\u001B[0;32m---> 63\u001B[0;31m     \u001B[0;32mreturn\u001B[0m \u001B[0mgetattr\u001B[0m\u001B[0;34m(\u001B[0m\u001B[0mmodule\u001B[0m\u001B[0;34m,\u001B[0m \u001B[0mitem\u001B[0m\u001B[0;34m)\u001B[0m\u001B[0;34m\u001B[0m\u001B[0;34m\u001B[0m\u001B[0m\n\u001B[0m\u001B[1;32m     64\u001B[0m \u001B[0;34m\u001B[0m\u001B[0m\n\u001B[1;32m     65\u001B[0m   \u001B[0;32mdef\u001B[0m \u001B[0m__dir__\u001B[0m\u001B[0;34m(\u001B[0m\u001B[0mself\u001B[0m\u001B[0;34m)\u001B[0m\u001B[0;34m:\u001B[0m\u001B[0;34m\u001B[0m\u001B[0;34m\u001B[0m\u001B[0m\n",
      "\u001B[0;31mAttributeError\u001B[0m: module 'tensorflow_estimator.python.estimator.api._v2.estimator' has no attribute 'inputs'"
     ]
    }
   ],
   "source": [
    "X = np.zeros([157, 128])\n",
    "Y = np.zeros([157], dtype=np.int32)\n",
    "example_id = np.array(['%d' % i for i in range(len(Y))])\n",
    "\n",
    "x_column_name = 'x'\n",
    "example_id_column_name = 'example_id'\n",
    "\n",
    "train_input_fn = tf.estimator.inputs.numpy_input_fn(\n",
    "    x={x_column_name: X, example_id_column_name: example_id},\n",
    "    y=Y,\n",
    "    num_epochs=None,\n",
    "    shuffle=True)\n",
    "\n",
    "svm = tf.contrib.learn.SVM(\n",
    "    example_id_column=example_id_column_name,\n",
    "    feature_columns=(tf.contrib.layers.real_valued_column(\n",
    "        column_name=x_column_name, dimension=128),),\n",
    "    l2_regularization=0.1)\n",
    "\n",
    "svm.fit(input_fn=train_input_fn, steps=10)\n"
   ],
   "metadata": {
    "collapsed": false,
    "pycharm": {
     "name": "#%% code\n"
    }
   }
  },
  {
   "cell_type": "markdown",
   "source": [
    "We are using the wast analyzer from vusec."
   ],
   "metadata": {
    "collapsed": false,
    "pycharm": {
     "name": "#%% md\n"
    }
   }
  },
  {
   "cell_type": "code",
   "execution_count": 28,
   "outputs": [
    {
     "name": "stdout",
     "output_type": "stream",
     "text": [
      "=================================== Best fit aes1 ===================================\n",
      "function: 27\n",
      "off: 0\n",
      "found_op: 3/0 on 3\n",
      "{'i32.shr_u': 12, 'i32.shl': 16, 'i32.xor': 16}\n",
      "=================================== Best fit aes2 ===================================\n",
      "function: 10\n",
      "off: 0\n",
      "found_op: 3/0 on 3\n",
      "{'i32.shr_u': 120, 'i32.shl': 160, 'i32.xor': 160}\n",
      "=================================== Best fit blake3 ===================================\n",
      "function: 26\n",
      "off: 0\n",
      "found_op: 3/0 on 3\n",
      "{'i32.shr_u': 32, 'i32.shl': 128, 'i32.xor': 80}\n",
      "=================================== Best fit blake4 ===================================\n",
      "function: 26\n",
      "off: 44\n",
      "found_op: 5/0 on 5\n",
      "{'loop': 2, 'if': 1, 'i32.xor': 80, 'i32.shl': 85, 'i32.shr_u': 32}\n",
      "=================================== Best fit blake5 ===================================\n",
      "function: 26\n",
      "off: 60\n",
      "found_op: 5/0 on 5\n",
      "{'loop': 2, 'if': 1, 'i32.xor': 80, 'i32.shl': 69, 'i32.shr_u': 32}\n",
      "=================================== Best fit groestl1 ===================================\n",
      "function: 9\n",
      "off: 0\n",
      "found_op: 3/0 on 3\n",
      "{'i32.shr_u': 99, 'i32.shl': 286, 'i32.xor': 127}\n",
      "=================================== Best fit groestl2 ===================================\n",
      "function: 13\n",
      "off: 0\n",
      "found_op: 3/0 on 3\n",
      "{'i32.shr_u': 99, 'i32.shl': 286, 'i32.xor': 136}\n",
      "=================================== Best fit keccak ===================================\n",
      "function: 25\n",
      "off: 0\n",
      "found_op: 4/0 on 4\n",
      "{'i32.shl': 4, 'i64.shl': 6, 'i64.xor': 101, 'i64.shr_u': 6}\n",
      "=================================== Best fit keccak2 ===================================\n",
      "function: 25\n",
      "off: 48\n",
      "found_op: 6/0 on 6\n",
      "{'i32.shl': 10, 'i64.xor': 61, 'i64.shl': 6, 'i64.shr_u': 6, 'loop': 3, 'if': 2}\n",
      "=================================== Best fit skein1 ===================================\n",
      "function: 20\n",
      "off: 0\n",
      "found_op: 3/0 on 3\n",
      "{'i64.shl': 288, 'i64.xor': 305, 'i64.shr_u': 288}\n",
      "=================================== Best fit skein2 ===================================\n",
      "function: 23\n",
      "off: 0\n",
      "found_op: 3/0 on 3\n",
      "{'i64.shl': 144, 'i64.xor': 153, 'i64.shr_u': 144}\n",
      "=================================== Best fit skein3 ===================================\n",
      "function: 24\n",
      "off: 0\n",
      "found_op: 4/0 on 4\n",
      "{'i32.shl': 24, 'i64.shl': 64, 'i64.xor': 97, 'i64.shr_u': 64}\n",
      "{'f_count': 13, 'loop_count': 23, 'loop_unr_count': 0}\n",
      "0\n",
      "[]\n",
      "1\n",
      "[]\n",
      "2\n",
      "[]\n",
      "3\n",
      "[]\n",
      "4\n",
      "[]\n",
      "5\n",
      "[]\n",
      "6\n",
      "[]\n",
      "7\n",
      "[]\n",
      "8\n",
      "[]\n",
      "9\n",
      "[]\n",
      "10\n",
      "[]\n",
      "11\n",
      "[[{'loop indent 0': {'i32.and': 1, 'if': 2, 'i32.eqz': 1, 'i32.add': 2, 'i32.sub': 1}}], [{'loop indent 0': {'i32.le_s': 1, 'if': 1, 'i32.add': 2}}], [{'loop indent 0': {'i32.lt_s': 1, 'if': 1, 'i32.add': 2}}], [{'loop indent 0': {'i32.lt_s': 1, 'if': 1, 'i32.add': 2}}], [{'loop indent 0': {'i32.lt_s': 1, 'if': 1, 'i32.add': 2}}]]\n",
      "12\n",
      "[[{'loop indent 0': {'i32.add': 2, 'if': 2}}], [{'loop indent 0': {'i32.add': 2, 'if': 2}}], [{'loop indent 0': {'i32.and': 1, 'i32.eq': 1, 'i32.shl': 2, 'i32.add': 2, 'i32.shr_u': 1, 'if': 1}}], [{'loop indent 0': {'i32.add': 1}}]]\n",
      "13\n",
      "[]\n",
      "14\n",
      "[[{'loop indent 0': {'i32.and': 1, 'if': 1, 'i32.add': 1}}], [{'loop indent 0': {'i32.le_s': 1, 'if': 1, 'i32.add': 1}}], [{'loop indent 0': {'i32.lt_s': 1, 'if': 1, 'i32.add': 1}}], [{'loop indent 0': {'i32.lt_s': 1, 'if': 1, 'i32.add': 1}}]]\n",
      "15\n",
      "[]\n",
      "16\n",
      "[[{'loop indent 0': {'i32.and': 1, 'i32.sub': 1, 'i32.lt_u': 1, 'if': 2, 'i32.add': 2, 'i32.eqz': 1, 'i32.shl': 1}}], [{'loop indent 0': {'i32.add': 2, 'if': 2}}], [{'loop indent 0': {'i32.and': 1, 'i32.sub': 1, 'i32.lt_u': 1, 'if': 3, 'i32.eqz': 4, 'i32.add': 2, 'i32.shr_u': 1, 'i32.shl': 2, 'i32.eq': 1, 'i32.or': 1, 'i32.xor': 1}}], [{'loop indent 0': {'i32.and': 1, 'i32.sub': 1, 'i32.lt_u': 1, 'if': 2, 'i32.add': 2, 'i32.eqz': 1, 'i32.shl': 1}}], [{'loop indent 0': {'i32.add': 2, 'if': 2}}], [{'loop indent 0': {'i32.and': 1, 'i32.eq': 1, 'i32.shl': 2, 'i32.add': 2, 'i32.shr_u': 1, 'if': 1}}], [{'loop indent 0': {'i32.le_u': 1, 'if': 1, 'i32.add': 2, 'i32.gt_u': 1}}], [{'loop indent 0': {'i32.add': 2, 'i32.eq': 1}}], [{'loop indent 0': {'i32.eq': 1}}], [{'loop indent 0': {'i32.add': 2, 'if': 2}}], [{'loop indent 0': {'i32.and': 1, 'i32.eq': 1, 'i32.shl': 2, 'i32.add': 2, 'i32.shr_u': 1, 'if': 1}}], [{'loop indent 0': {'i32.le_u': 1, 'if': 1, 'i32.add': 1, 'i32.gt_u': 1}}], [{'loop indent 0': {'i32.add': 2, 'i32.lt_u': 1, 'if': 1}}], [{'loop indent 0': {'i32.and': 1, 'i32.eq': 1, 'i32.shl': 2, 'i32.add': 2, 'i32.shr_u': 1, 'if': 1}}]]\n",
      "17\n",
      "[[{'loop indent 0': {'i32.add': 3, 'i32.eqz': 1, 'if': 1, 'call': 1, 'i64.add': 1}}]]\n",
      "18\n",
      "[]\n",
      "19\n",
      "[[{'loop indent 0': {'i32.shl': 28, 'i32.add': 28, 'i64.xor': 532, 'i64.and': 304, 'i64.or': 76, 'i64.add': 7, 'i64.shl': 48, 'i64.shr_u': 48}}]]\n",
      "20\n",
      "[[{'loop indent 0': {'i64.add': 468, 'i64.xor': 305, 'i32.add': 2, 'i64.shl': 288, 'i64.shr_u': 288, 'i64.or': 288, 'i64.and': 1, 'if': 1}}]]\n",
      "21\n",
      "[[{'loop indent 0': {'i32.xor': 48, 'call': 20, 'i32.add': 4, 'i32.eqz': 1, 'if': 2, 'i32.gt_s': 1}}]]\n",
      "22\n",
      "[[{'loop indent 0': {'i32.shl': 14, 'i32.add': 28, 'i32.shr_u': 11, 'i32.rem_u': 1, 'if': 3, 'i32.and': 16, 'i32.gt_u': 1, 'i32.eq': 1, 'call': 1, 'i32.div_u': 1, 'i32.xor': 5, 'i32.sub': 4, 'i32.or': 6, 'i32.lt_u': 1}}]]\n",
      "23\n",
      "[[{'loop indent 0': {'i64.add': 254, 'i64.xor': 153, 'i32.add': 2, 'i64.shl': 144, 'i64.shr_u': 144, 'i64.or': 144, 'i64.and': 1, 'if': 1}}]]\n",
      "24\n",
      "[[[{'loop indent 1': {'i64.shl': 64, 'i64.shr_u': 64, 'i64.or': 64, 'i64.add': 103, 'i64.xor': 64, 'i32.shl': 24, 'i32.add': 42, 'i32.lt_u': 1, 'if': 1}}], {'loop indent 0': {'i64.add': 19, 'i64.xor': 33, 'i64.and': 1, 'i32.add': 2, 'if': 1}}]]\n",
      "25\n",
      "[[[{'loop indent 1': {'i32.shl': 3, 'i32.add': 4, 'i32.sub': 1, 'i64.shr_u': 1, 'i64.shl': 1, 'i64.or': 1, 'i32.ne': 1, 'if': 1}}], {'loop indent 0': {'i64.xor': 101, 'i64.shl': 5, 'i64.shr_u': 5, 'i64.or': 5, 'i64.and': 25, 'i32.shl': 1, 'i32.add': 2, 'i32.ne': 1}}]]\n",
      "26\n",
      "[[{'loop indent 0': {'i32.add': 97, 'i32.shl': 80, 'i32.xor': 48, 'i32.shr_u': 32, 'i32.or': 32, 'i32.ne': 1}}]]\n",
      "27\n",
      "[]\n",
      "28\n",
      "[]\n",
      "29\n",
      "[]\n",
      "30\n",
      "[[{'loop indent 0': {'i32.add': 5, 'i32.ne': 1}}], [{'loop indent 0': {'i32.add': 3, 'i32.lt_s': 1}}], [{'loop indent 0': {'i32.add': 3, 'i32.lt_s': 1}}], [{'loop indent 0': {'i32.add': 3, 'i32.shr_u': 1, 'i32.gt_s': 1}}], [{'loop indent 0': {'i32.add': 3, 'i32.shr_u': 1, 'i32.gt_s': 1}}]]\n",
      "31\n",
      "[[{'loop indent 0': {'i32.gt_s': 1, 'if': 1, 'i32.sub': 3}}]]\n",
      "32\n",
      "[[{'loop indent 0': {'call': 2, 'i32.add': 2, 'i32.sub': 1, 'i32.lt_u': 1, 'if': 2, 'i32.shl': 1, 'i32.ne': 1}}], [{'loop indent 0': {'call': 2, 'i32.add': 2, 'i32.sub': 1, 'i32.lt_u': 1, 'if': 1, 'i32.gt_u': 1}}], [{'loop indent 0': {'call': 2, 'i32.add': 2, 'i32.sub': 1, 'i32.lt_u': 1, 'if': 2, 'i32.shl': 1, 'i32.ne': 1}}]]\n",
      "33\n",
      "[[{'loop indent 0': {'i32.add': 1, 'call': 1, 'i64.add': 2}}]]\n",
      "34\n",
      "[]\n",
      "35\n",
      "[[{'loop indent 0': {'call': 8, 'i32.add': 2, 'i32.lt_u': 1}}], [{'loop indent 0': {'i32.and': 4, 'i32.add': 7, 'call': 2, 'i64.xor': 8, 'i64.shr_u': 6, 'i64.and': 4, 'i64.mul': 8, 'i64.add': 14, 'i64.shl': 4, 'i32.ne': 1, 'if': 1}}], [{'loop indent 0': {'i32.add': 9, 'i64.xor': 16, 'call': 8, 'i32.or': 7, 'i32.lt_u': 1}}]]\n"
     ]
    }
   ],
   "source": [
    "%autoreload 2\n",
    "\n",
    "with open('wast_samples/miner_samples/allduniv.ac.in.wast') as file:\n",
    "    wast_analysis(file,\n",
    "                  # save_fp='test.txt',\n",
    "\n",
    "                  analyse_crypto='fingerprint.json',\n",
    "                  dump_stat='test_test.txt'\n",
    "                  )"
   ],
   "metadata": {
    "collapsed": false,
    "pycharm": {
     "name": "#%% code\n"
    }
   }
  }
 ],
 "metadata": {
  "kernelspec": {
   "display_name": "PyCharm (wastClassifier)",
   "language": "python",
   "name": "pycharm-428e5a48"
  },
  "language_info": {
   "codemirror_mode": {
    "name": "ipython",
    "version": 3
   },
   "file_extension": ".py",
   "mimetype": "text/x-python",
   "name": "python",
   "nbconvert_exporter": "python",
   "pygments_lexer": "ipython3",
   "version": "3.8.2"
  }
 },
 "nbformat": 4,
 "nbformat_minor": 1
}